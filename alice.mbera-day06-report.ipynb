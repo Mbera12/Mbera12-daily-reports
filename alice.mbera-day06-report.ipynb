{
 "cells": [
  {
   "cell_type": "markdown",
   "id": "ad6acdd9-0d92-4088-9aa5-ea66292169da",
   "metadata": {},
   "source": [
    "# October 1, 2024"
   ]
  },
  {
   "cell_type": "markdown",
   "id": "1ab5e474-8f00-4744-b161-265ecb76d9a4",
   "metadata": {},
   "source": [
    "### 1 Summations and Products"
   ]
  },
  {
   "cell_type": "markdown",
   "id": "eb0549d5-1398-4483-adbb-8df7efd27db9",
   "metadata": {},
   "source": [
    "### 1. Compute the following expressions for a natural number n chosen by the user:\r\n"
   ]
  },
  {
   "cell_type": "markdown",
   "id": "70163f30-e5a9-4330-9035-f51c66f5cf26",
   "metadata": {},
   "source": [
    "\\begin{equation}\n",
    "\\sum_{i=0}^{n-1}(i+3)\n",
    "\\end{equation}"
   ]
  },
  {
   "cell_type": "code",
   "execution_count": 39,
   "id": "33fb4dc9-0c2c-4697-8808-51235df705bc",
   "metadata": {},
   "outputs": [
    {
     "name": "stdin",
     "output_type": "stream",
     "text": [
      "enter the nutural number n= 1\n"
     ]
    },
    {
     "name": "stdout",
     "output_type": "stream",
     "text": [
      "4\n"
     ]
    }
   ],
   "source": [
    "sum = 0\n",
    "t = int(input(\"enter the nutural number n=\"))\n",
    "for i in range(t+1):\n",
    "    if (i%2!=0):\n",
    "         sum = sum + i + 3\n",
    "print(sum)"
   ]
  },
  {
   "cell_type": "code",
   "execution_count": 58,
   "id": "83922501-3cfb-4424-88ed-098484579a7a",
   "metadata": {},
   "outputs": [
    {
     "name": "stdin",
     "output_type": "stream",
     "text": [
      "enter the nutural number n= 5\n"
     ]
    },
    {
     "name": "stdout",
     "output_type": "stream",
     "text": [
      "Don't print sum\n",
      "4\n",
      "Don't print sum\n",
      "10\n",
      "Don't print sum\n",
      "18\n"
     ]
    }
   ],
   "source": [
    "summ = 0\n",
    "t = int(input(\"enter the nutural number n=\"))\n",
    "for i in range(t+1):\n",
    "    if (i%2!=0):\n",
    "         summ = summ + i + 3\n",
    "         print(summ)\n",
    "    else:\n",
    "            print(\"Don't print sum\")"
   ]
  },
  {
   "cell_type": "markdown",
   "id": "2600071c-f3bc-4c20-97bb-8dfa9f65ffd8",
   "metadata": {},
   "source": [
    "\\begin{equation}\n",
    "\\prod_{i=0}^{n-1}(i+3)\n",
    "\\end{equation}"
   ]
  },
  {
   "cell_type": "code",
   "execution_count": 86,
   "id": "efa0a2ed-efe5-48a3-b96b-7ef94cb036f6",
   "metadata": {},
   "outputs": [
    {
     "name": "stdin",
     "output_type": "stream",
     "text": [
      "enter the nutural number n= 2\n"
     ]
    },
    {
     "name": "stdout",
     "output_type": "stream",
     "text": [
      "3\n",
      "Don't print prodd\n"
     ]
    }
   ],
   "source": [
    "prodd = 1\n",
    "p = int(input(\"enter the nutural number n=\"))\n",
    "for i in range(p):\n",
    "\n",
    "    if (i%2==0):\n",
    "         prodd = prodd * i + 3\n",
    "         print(prodd)\n",
    "    else:\n",
    "            print(\"Don't print prodd\")"
   ]
  },
  {
   "cell_type": "markdown",
   "id": "8119ddde-64ce-4ade-97c2-318d39a3b141",
   "metadata": {},
   "source": [
    "2. Write a program that reads the number of the day of the week (from 0 to 6). If it is a \n",
    "working day, then the program will write the name of the corresponding day. Otherwise \r\n",
    "it will write the word \"Weekend\"."
   ]
  },
  {
   "cell_type": "code",
   "execution_count": 3,
   "id": "6a78892a-3c84-4fd4-b89c-5f2d9256e1c7",
   "metadata": {},
   "outputs": [
    {
     "name": "stdin",
     "output_type": "stream",
     "text": [
      "days of the week from 0 to 6 = 7\n"
     ]
    },
    {
     "name": "stdout",
     "output_type": "stream",
     "text": [
      "Invalid input. The values shoud be from 0 to 6\n"
     ]
    }
   ],
   "source": [
    "w = int(input(\"days of the week from 0 to 6 =\"))\n",
    "Days = [\"Sunday\", \"Monday\", \"Tuesday\", \"Wednesday\", \"Thursday\",\"Friday\", \"Saturday\"]\n",
    "if w == 0 or w ==6:\n",
    "    print('weekend')\n",
    "elif w > 0 and w < 6:\n",
    "    print(Days[w])\n",
    "else:\n",
    "    print(\"Invalid input. The values shoud be from 0 to 6\")"
   ]
  },
  {
   "cell_type": "markdown",
   "id": "f9d4c731-1fdf-4584-aa44-73db045a361b",
   "metadata": {},
   "source": [
    "3. Make a program that, given a month number (from 0 to 11), indicates how many days it \n",
    "has (28, 30 or 31), ignoring the leap years."
   ]
  },
  {
   "cell_type": "code",
   "execution_count": 5,
   "id": "e91daca2-a542-4aeb-bfc0-334fa7958832",
   "metadata": {},
   "outputs": [
    {
     "name": "stdin",
     "output_type": "stream",
     "text": [
      "put any month number (0-11):  6\n"
     ]
    },
    {
     "name": "stdout",
     "output_type": "stream",
     "text": [
      "31\n"
     ]
    }
   ],
   "source": [
    "days = [31, 28, 31, 30, 31, 30, 31, 31, 30, 31, 30, 31]\n",
    "month_number = int(input(\"put any month number (0-11): \"))\n",
    "if 0 <= month_number <= 11:\n",
    "    print(days[month_number])\n",
    "else:\n",
    "    print(\"Invalid month number\")"
   ]
  },
  {
   "cell_type": "markdown",
   "id": "5171b522-4092-4ffe-8f85-db07079997e9",
   "metadata": {},
   "source": [
    "4. Write two versions of python code that displays your name 3 times. One version with a\n",
    "\"for loop\" and another version with a \"while loop\"."
   ]
  },
  {
   "cell_type": "code",
   "execution_count": 29,
   "id": "62384653-04c0-4844-878e-77e5ea8b2c48",
   "metadata": {},
   "outputs": [
    {
     "name": "stdout",
     "output_type": "stream",
     "text": [
      "Alice Mbera\n",
      "Alice Mbera\n",
      "Alice Mbera\n"
     ]
    }
   ],
   "source": [
    "# Here is for \"for loop\"\n",
    "my_name = \"Alice Mbera\"  \n",
    "for i in range(3):  \n",
    "    print(my_name) "
   ]
  },
  {
   "cell_type": "code",
   "execution_count": 35,
   "id": "bc9a721e-e3e2-4a03-a824-08ad26ca90b2",
   "metadata": {},
   "outputs": [
    {
     "name": "stdout",
     "output_type": "stream",
     "text": [
      "Alice Mbera\n",
      "Alice Mbera\n",
      "Alice Mbera\n"
     ]
    }
   ],
   "source": [
    "# Her is for \"while loop\"\n",
    "my_name = \"Alice Mbera\" \n",
    "count = 0 \n",
    "while count < 3:  \n",
    "    print(my_name)  \n",
    "    count += 1  "
   ]
  },
  {
   "cell_type": "markdown",
   "id": "12f40d57-fa8a-4033-bef8-83e099cc8a15",
   "metadata": {},
   "source": [
    "5. Given two numbers $a_0$ and $a_1$, the Fibonacci sequence they generate is constructed from\r\n",
    "the recursion formula$ _an+$1 =$ _a$n +$ _an−$1. Calculate the first 15 terms of a Fibonacci\r\n",
    "sequence, asking the user the initial values.\r",
    "es."
   ]
  },
  {
   "cell_type": "code",
   "execution_count": 55,
   "id": "15b80a2e-1d0a-4a00-b25c-56695cab5a5a",
   "metadata": {},
   "outputs": [
    {
     "name": "stdin",
     "output_type": "stream",
     "text": [
      "Put the first number (a_0):  6\n",
      "Put the second number (a_1):  8\n"
     ]
    },
    {
     "name": "stdout",
     "output_type": "stream",
     "text": [
      "First 15 terms of the Fibonacci sequence are:\n",
      "[6, 8, 3571, 3571, 3571, 3571, 3571, 3571, 3571, 3571, 3571, 3571, 3571, 3571, 3571]\n"
     ]
    }
   ],
   "source": [
    "a_0= int(input(\"Put the first number (a_0): \"))\n",
    "a_1 = int(input(\"Put the second number (a_1): \"))\n",
    "fibonacci_sequence = [a_0, a_1]\n",
    "for n in range(2, 15):\n",
    "    following_term = fibonacci_sequence[n - 1] + fibonacci_sequence[n - 2] \n",
    "    fibonacci_sequence.append(next_term)\n",
    "print(\"First 15 terms of the Fibonacci sequence are:\")\n",
    "print(fibonacci_sequence)"
   ]
  },
  {
   "cell_type": "markdown",
   "id": "7d5fbd71-1aba-4f03-b72f-9337b4c937c2",
   "metadata": {},
   "source": [
    "6. Compute the first 30 terms of the sequence defined by 2xn+2 − xn+1 − 6xn = 0 sequence,\n",
    "given any two initial values $x_0$ and $x_1$"
   ]
  },
  {
   "cell_type": "code",
   "execution_count": 61,
   "id": "8687bd4c-6f1d-4674-86d7-5769a5181b7b",
   "metadata": {},
   "outputs": [
    {
     "name": "stdin",
     "output_type": "stream",
     "text": [
      "Put the first value (x_0):  4\n",
      "Put the second value (x_1):  2\n"
     ]
    },
    {
     "name": "stdout",
     "output_type": "stream",
     "text": [
      "First 30 terms of the sequence:\n",
      "[4, 2, 13.0, 12.5, 45.25, 60.125, 165.8125, 263.28125, 629.078125, 1104.3828125, 2439.42578125, 4532.861328125, 9584.7080078125, 18390.93798828125, 37949.593017578125, 74147.61047363281, 150922.58428955078, 297904.1235656738, 601719.8146514893, 1194572.278022766, 2402445.582965851, 4784939.625551224, 9599806.561673164, 19154722.157490253, 38376780.76376462, 76652556.85435307, 153456620.7184704, 306685980.9222944, 613712852.6165583, 1226914369.0751624]\n"
     ]
    }
   ],
   "source": [
    "x_0 = int(input(\"Put the first value (x_0): \"))\n",
    "x_1 = int(input(\"Put the second value (x_1): \"))\n",
    "sequence = [x_0, x_1]\n",
    "for n in range(2, 30):\n",
    "    following_term = (sequence[n - 1] + 6 * sequence[n - 2]) / 2\n",
    "    sequence.append(following_term)\n",
    "print(\"First 30 terms of the sequence:\")\n",
    "print(sequence)"
   ]
  },
  {
   "cell_type": "markdown",
   "id": "366a2fea-b5e8-44c1-a2b4-fd99e8aec304",
   "metadata": {},
   "source": [
    "7. a) Write python code to determine whether or not a year is a leap year. Be sure you\n",
    "know what a leap year is.\n"
   ]
  },
  {
   "cell_type": "code",
   "execution_count": 77,
   "id": "a13727f9-5e9e-4ae3-ab51-9a98ebb11d63",
   "metadata": {},
   "outputs": [
    {
     "name": "stdin",
     "output_type": "stream",
     "text": [
      "put a year:  2012\n"
     ]
    },
    {
     "name": "stdout",
     "output_type": "stream",
     "text": [
      "a leap year.\n"
     ]
    }
   ],
   "source": [
    "year = int(input(\"put a year: \")) \n",
    "if (year % 4 == 0 and year % 100 != 0) or (year % 400 == 0):\n",
    "    print(\"a leap year.\")\n",
    "else:\n",
    "    prin(\"not a leap year.\")"
   ]
  },
  {
   "cell_type": "markdown",
   "id": "81a0635f-6129-47de-a6a0-6fcc9e63fc4e",
   "metadata": {},
   "source": [
    "b) Write the code using only logical operators, i.e. no conditional branching.\n"
   ]
  },
  {
   "cell_type": "code",
   "execution_count": 86,
   "id": "57b06bce-b5cd-4f47-9d60-6a5e7f3feea9",
   "metadata": {},
   "outputs": [
    {
     "name": "stdin",
     "output_type": "stream",
     "text": [
      "put a year:  2003\n"
     ]
    },
    {
     "name": "stdout",
     "output_type": "stream",
     "text": [
      "not a leap year.\n"
     ]
    }
   ],
   "source": [
    "year = int(input(\"put a year: \"))\n",
    "leap_year = (year % 4 == 0) and (year % 100 != 0 or year % 400 == 0)\n",
    "print(\"a leap year.\" *leap_year or \"not a leap year.\")"
   ]
  },
  {
   "cell_type": "markdown",
   "id": "227b82df-984a-4156-b3de-24d671e40f9d",
   "metadata": {},
   "source": [
    "8. a) Write python code that computes the sum of the square of the first n natural numbers.\n",
    "One version with a \"for loop\" and another version with a \"while loop\"."
   ]
  },
  {
   "cell_type": "code",
   "execution_count": 100,
   "id": "8afcd093-25ff-4767-995a-6fc37f2eaa41",
   "metadata": {},
   "outputs": [
    {
     "name": "stdin",
     "output_type": "stream",
     "text": [
      "put a natural number (n):  4\n"
     ]
    },
    {
     "name": "stdout",
     "output_type": "stream",
     "text": [
      "The sum of the squares of the first 4 natural numbers is: 30\n"
     ]
    }
   ],
   "source": [
    "# Here is for \"for loop\"\n",
    "n = int(input(\"put a natural number (n): \"))\n",
    "sum = 0\n",
    "for i in range(1, n + 1):\n",
    "    sum += i ** 2  \n",
    "print(f\"The sum of the squares of the first {n} natural numbers is: {sum}\")"
   ]
  },
  {
   "cell_type": "code",
   "execution_count": 102,
   "id": "28751851-40ec-4f2e-8182-e9b12bf4ddd3",
   "metadata": {},
   "outputs": [
    {
     "name": "stdin",
     "output_type": "stream",
     "text": [
      "Enter a natural number (n):  4\n"
     ]
    },
    {
     "name": "stdout",
     "output_type": "stream",
     "text": [
      "The sum of the squares of the first 4 natural numbers is: 30\n"
     ]
    }
   ],
   "source": [
    "# Here for a \"while loop\"\n",
    "n = int(input(\"Enter a natural number (n): \"))\n",
    "sum = 0\n",
    "i = 1\n",
    "while i <= n:\n",
    "    # This is the quare of i\n",
    "    sum += i ** 2  \n",
    "    i += 1  \n",
    "print(f\"The sum of the squares of the first {n} natural numbers is: {sum}\")"
   ]
  },
  {
   "cell_type": "markdown",
   "id": "ce66e41d-4a0d-4dda-88b8-a03484ef57cc",
   "metadata": {},
   "source": [
    "9. a) Write python code that prints all the divisors of a given natural number.\n"
   ]
  },
  {
   "cell_type": "code",
   "execution_count": 107,
   "id": "47320296-47a1-46b1-ac48-a72e77eb5c3d",
   "metadata": {},
   "outputs": [
    {
     "name": "stdin",
     "output_type": "stream",
     "text": [
      "put a natural number:  2\n"
     ]
    },
    {
     "name": "stdout",
     "output_type": "stream",
     "text": [
      "The divisors of 2 are: [1, 2]\n"
     ]
    }
   ],
   "source": [
    "nat_number = int(input(\"put a natural number: \"))\n",
    "divisors = []\n",
    "for i in range(1, nat_number + 1):\n",
    "    if nat_number % i == 0:\n",
    "        # Here I add the divisor to the list\n",
    "        divisors.append(i) \n",
    "print(f\"The divisors of {nat_number} are: {divisors}\")"
   ]
  },
  {
   "cell_type": "markdown",
   "id": "8de338db-41a7-4917-ba97-84173cb00333",
   "metadata": {},
   "source": [
    "b) Read an integer number input by the user and calculate its prime factors. This will\n",
    "just be some of its divisors.\n"
   ]
  },
  {
   "cell_type": "code",
   "execution_count": 127,
   "id": "9e378a5f-d8f7-4a06-bdda-4fd1589e4596",
   "metadata": {},
   "outputs": [
    {
     "name": "stdin",
     "output_type": "stream",
     "text": [
      "put an integer number:  3\n"
     ]
    },
    {
     "name": "stdout",
     "output_type": "stream",
     "text": [
      "[3]\n"
     ]
    }
   ],
   "source": [
    "int_number = int(input(\"put an integer number: \"))\n",
    "prime_factors = []\n",
    "while number % 2 == 0:\n",
    "    prime_factors.append(2)\n",
    "    int_number //= 2\n",
    "for i in range(3, int(int_number**0.5) + 1, 2):\n",
    "    while int_number % i == 0:\n",
    "        prime_factors.append(i)\n",
    "        int_number //= i\n",
    "if int_number > 2:\n",
    "    prime_factors.append(int_number)\n",
    "print(prime_factors)"
   ]
  },
  {
   "cell_type": "markdown",
   "id": "6b0618d7-221f-4fe3-8147-e33c30821035",
   "metadata": {},
   "source": [
    "10. Read an integer number between $n$ $0$ and $9$ and print its multiplication table up to N\n",
    "where N is another another natural number read by the program."
   ]
  },
  {
   "cell_type": "code",
   "execution_count": 133,
   "id": "7049facf-f479-4090-8c5d-a1a87cd019d7",
   "metadata": {},
   "outputs": [
    {
     "name": "stdin",
     "output_type": "stream",
     "text": [
      "put an integer between 0 and 9:  3\n",
      "Enter a natural number (N):  4\n"
     ]
    },
    {
     "name": "stdout",
     "output_type": "stream",
     "text": [
      "Multiplication table of 3 up to 4:\n",
      "3 x 1 = 3\n",
      "3 x 2 = 6\n",
      "3 x 3 = 9\n",
      "3 x 4 = 12\n"
     ]
    }
   ],
   "source": [
    "n = int(input(\"put an integer between 0 and 9: \"))\n",
    "if 0 <= n <= 9:\n",
    "    N = int(input(\"Enter a natural number (N): \"))\n",
    "    print(f\"Multiplication table of {n} up to {N}:\")\n",
    "    for i in range(1, N + 1):\n",
    "        print(f\"{n} x {i} = {n * i}\")\n",
    "else:\n",
    "    print(\"put a number between 0 and 9.\")"
   ]
  },
  {
   "cell_type": "markdown",
   "id": "9f23a720-df6f-4f3b-863e-d53ff270cb39",
   "metadata": {},
   "source": [
    "11. Write a program that prints all the numbers between 0 and 40 that are multiples of 3, 7\n",
    "or 11."
   ]
  },
  {
   "cell_type": "code",
   "execution_count": 138,
   "id": "b506da91-3feb-4ffb-b8a5-a7b578e80841",
   "metadata": {},
   "outputs": [
    {
     "name": "stdout",
     "output_type": "stream",
     "text": [
      "Numbers between 0 and 40 that are multiples of 3, 7, or 11:\n",
      "0\n",
      "3\n",
      "6\n",
      "7\n",
      "9\n",
      "11\n",
      "12\n",
      "14\n",
      "15\n",
      "18\n",
      "21\n",
      "22\n",
      "24\n",
      "27\n",
      "28\n",
      "30\n",
      "33\n",
      "35\n",
      "36\n",
      "39\n"
     ]
    }
   ],
   "source": [
    "print(\"Numbers between 0 and 40 that are multiples of 3, 7, or 11:\")\n",
    "for i in range(41): \n",
    "    if i % 3 == 0 or i % 7 == 0 or i % 11 == 0:\n",
    "        print(i)"
   ]
  },
  {
   "cell_type": "markdown",
   "id": "77952398-ce6a-4b3d-bfbf-7ff1dca1c857",
   "metadata": {},
   "source": [
    "12. Write python code that prints the floor of a float x. Recall that the floor of a float x is the\n",
    "largest integer value less than or equal to x, i.e. if E[x] is the floor of x, then it satisfies,\n",
    "E[x] = 1 + E[x − 1]\n"
   ]
  },
  {
   "cell_type": "code",
   "execution_count": 143,
   "id": "08493f2f-5584-4c6c-9d6d-a0e9d2fe537e",
   "metadata": {},
   "outputs": [
    {
     "name": "stdin",
     "output_type": "stream",
     "text": [
      "Put a float number:  2.4\n"
     ]
    },
    {
     "name": "stdout",
     "output_type": "stream",
     "text": [
      "2\n"
     ]
    }
   ],
   "source": [
    "x = float(input(\"Put a float number: \"))\n",
    "floor_value = int(x) if x >= 0 else int(x) - 1\n",
    "print(floor_value)"
   ]
  },
  {
   "cell_type": "markdown",
   "id": "3236aa2f-471a-47de-9f0c-622dc152f99c",
   "metadata": {},
   "source": [
    "13. Given a point in the plane by its Cartesian coordinates, determine in which quadrant it is\n",
    "(1st, 2nd, 3rd, 4th), if it lies on an axis, or if it is the origin. Do this for several points in\n",
    "the same execution of the program until the user quits."
   ]
  },
  {
   "cell_type": "markdown",
   "id": "d5359a24-368a-4218-8578-6d3565f3c9d0",
   "metadata": {},
   "source": [
    "14. Ask for an integer number between 0 and 9, denoted x. Once the user has entered a correct\n",
    "number (that is one in the range [0..10)) the program asks for a second integer number\n",
    "between 0 and 255, denoted max. The program continues asking for the number until it\n",
    "is correct (that it is in the range [0..256)). When this is done, show all multiples of x that\n",
    "are between 0 and max. Then, ask the user whether he/she wants to continue; if in the\n",
    "affirmative, ask for another couple of numbers, otherwise finish."
   ]
  }
 ],
 "metadata": {
  "kernelspec": {
   "display_name": "Python 3 (ipykernel)",
   "language": "python",
   "name": "python3"
  },
  "language_info": {
   "codemirror_mode": {
    "name": "ipython",
    "version": 3
   },
   "file_extension": ".py",
   "mimetype": "text/x-python",
   "name": "python",
   "nbconvert_exporter": "python",
   "pygments_lexer": "ipython3",
   "version": "3.12.4"
  }
 },
 "nbformat": 4,
 "nbformat_minor": 5
}
