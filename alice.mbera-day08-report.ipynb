{
  "nbformat": 4,
  "nbformat_minor": 0,
  "metadata": {
    "colab": {
      "provenance": []
    },
    "kernelspec": {
      "name": "python3",
      "display_name": "Python 3"
    },
    "language_info": {
      "name": "python"
    }
  },
  "cells": [
    {
      "cell_type": "code",
      "execution_count": null,
      "metadata": {
        "id": "JVeK-iz5wbQQ"
      },
      "outputs": [],
      "source": [
        "def find_max(A,B):\n",
        "    if A > B:\n",
        "        return A\n",
        "    elif A == B:\n",
        "         return False\n",
        "    else:\n",
        "        return B"
      ]
    },
    {
      "cell_type": "code",
      "source": [
        "find_max(2,3)"
      ],
      "metadata": {
        "colab": {
          "base_uri": "https://localhost:8080/"
        },
        "id": "hfwpNEY3wihi",
        "outputId": "8356b89b-621d-44c9-d652-495dc3706772"
      },
      "execution_count": null,
      "outputs": [
        {
          "output_type": "execute_result",
          "data": {
            "text/plain": [
              "3"
            ]
          },
          "metadata": {},
          "execution_count": 3
        }
      ]
    },
    {
      "cell_type": "markdown",
      "source": [
        "2. Develop a function `find_max_of_three()` to find the maximum among three given numbers."
      ],
      "metadata": {
        "id": "cqJ2RTKEwv84"
      }
    },
    {
      "cell_type": "code",
      "source": [
        "def find_max_of_three(Q,R,T):\n",
        "  if Q > R > T:\n",
        "    return Q\n",
        "  elif Q == R == T:\n",
        "         return False\n",
        "  else:\n",
        "        return Q"
      ],
      "metadata": {
        "id": "6HLVjvLtw37X"
      },
      "execution_count": null,
      "outputs": []
    },
    {
      "cell_type": "code",
      "source": [
        "find_max_of_three(10,7,9)"
      ],
      "metadata": {
        "colab": {
          "base_uri": "https://localhost:8080/"
        },
        "id": "5lBqUidQy0DO",
        "outputId": "f65f5a12-1f2e-4579-bd71-7351498bd440"
      },
      "execution_count": null,
      "outputs": [
        {
          "output_type": "execute_result",
          "data": {
            "text/plain": [
              "10"
            ]
          },
          "metadata": {},
          "execution_count": 10
        }
      ]
    },
    {
      "cell_type": "markdown",
      "source": [
        "3. Write a function to manually calculate the length of a given list or string without using `len()`."
      ],
      "metadata": {
        "id": "WEOviaQm0O8B"
      }
    },
    {
      "cell_type": "code",
      "source": [
        "def age(good):\n",
        "    count = 0\n",
        "    for _ in good:\n",
        "        count += 1\n",
        "    return count"
      ],
      "metadata": {
        "id": "dSLCF-nl0RZO"
      },
      "execution_count": 2,
      "outputs": []
    },
    {
      "cell_type": "code",
      "source": [
        "def length(sequence):\n",
        "    i = 0\n",
        "    for _ in sequence:\n",
        "        i += 1\n",
        "    return i\n",
        "list_length = length([1, 2, 3, 4, 5,6,7,8])\n",
        "print( list_length)"
      ],
      "metadata": {
        "colab": {
          "base_uri": "https://localhost:8080/"
        },
        "id": "FnWKbR7vMP7M",
        "outputId": "958fa033-6e63-488a-9661-ef53fa601aed"
      },
      "execution_count": 6,
      "outputs": [
        {
          "output_type": "stream",
          "name": "stdout",
          "text": [
            "8\n"
          ]
        }
      ]
    },
    {
      "cell_type": "markdown",
      "source": [
        "4. Implement a function that checks if a given character is a vowel (a, e, i, o, u)."
      ],
      "metadata": {
        "id": "ZNjJqXuoN8DM"
      }
    },
    {
      "cell_type": "code",
      "source": [
        "def vowels_only(v):\n",
        "    if len(v) != 1:\n",
        "        return False\n",
        "    vowels = 'IUOAEiuoae'\n",
        "    return v in vowels\n",
        "print(vowels_only('i'))\n",
        "print(vowels_only('u'))\n",
        "print(vowels_only('y'))\n",
        "print(vowels_only('W'))"
      ],
      "metadata": {
        "colab": {
          "base_uri": "https://localhost:8080/"
        },
        "id": "QaYelgexN-K4",
        "outputId": "0e920f9e-9645-4477-9312-1e7bb519d0fd"
      },
      "execution_count": 8,
      "outputs": [
        {
          "output_type": "stream",
          "name": "stdout",
          "text": [
            "True\n",
            "True\n",
            "False\n",
            "False\n"
          ]
        }
      ]
    },
    {
      "cell_type": "markdown",
      "source": [
        "5. Write a function encode() that converts a string into \"rövarspråket\" (robber's language) by doubling consonants and placing \"o\" in between, e.g., \"hello\" -> \"hohelollolo\"."
      ],
      "metadata": {
        "id": "rbGOnAx3PY4D"
      }
    },
    {
      "cell_type": "markdown",
      "source": [
        "6. Create sum_elements() and product_elements() functions to sum and multiply all elements in a list, respectively.\n",
        "\n"
      ],
      "metadata": {
        "id": "SuNxiqjaQyPh"
      }
    },
    {
      "cell_type": "code",
      "source": [
        "def sum(my_list):\n",
        "    total = 0\n",
        "    for element in my_list:\n",
        "        total += element\n",
        "    return total\n",
        "def product(my_list):\n",
        "    product = 1\n",
        "    for element in my_list:\n",
        "        product *= element\n",
        "    return product\n",
        "age = [22, 55, 40, 21, 11,]\n",
        "print(sum(age))\n",
        "print(product(age))"
      ],
      "metadata": {
        "colab": {
          "base_uri": "https://localhost:8080/"
        },
        "id": "fILO6DkDQ7ad",
        "outputId": "48c85afc-c9be-46be-c0c7-2ad110595b14"
      },
      "execution_count": 13,
      "outputs": [
        {
          "output_type": "stream",
          "name": "stdout",
          "text": [
            "149\n",
            "11180400\n"
          ]
        }
      ]
    },
    {
      "cell_type": "markdown",
      "source": [
        "7. Define a function reverse_string() to reverse the characters in a given string."
      ],
      "metadata": {
        "id": "f6dy07RaT7Ju"
      }
    },
    {
      "cell_type": "code",
      "source": [
        "def word(g):\n",
        "    return g[::-1]\n",
        "print(word(\"understanding\"))"
      ],
      "metadata": {
        "colab": {
          "base_uri": "https://localhost:8080/"
        },
        "id": "HsYFAhR4UEze",
        "outputId": "e2365a0b-9c17-40e1-b956-eef8e0c07d43"
      },
      "execution_count": 16,
      "outputs": [
        {
          "output_type": "stream",
          "name": "stdout",
          "text": [
            "gnidnatsrednu\n"
          ]
        }
      ]
    },
    {
      "cell_type": "code",
      "source": [],
      "metadata": {
        "id": "E9hQNMmxU0qq"
      },
      "execution_count": null,
      "outputs": []
    }
  ]
}