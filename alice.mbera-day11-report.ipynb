{
 "cells": [
  {
   "cell_type": "markdown",
   "id": "946dcae8",
   "metadata": {},
   "source": [
    "# Practical_6: Numpy"
   ]
  },
  {
   "cell_type": "markdown",
   "id": "9a78d71c",
   "metadata": {},
   "source": [
    "---\n",
    "\n",
    "### Exercise 1:\n",
    "Create a NumPy array of integers from 1 to 10.\n",
    "\n",
    "```python\n",
    "# Exercise 1\n",
    "```\n",
    "\n",
    "---\n",
    "\n",
    "### Exercise 2:\n",
    "Create a 3x3 NumPy array filled with zeros.\n",
    "\n",
    "```python\n",
    "# Exercise 2\n",
    "```\n",
    "\n",
    "---\n",
    "\n",
    "### Exercise 3:\n",
    "Create a NumPy array of 10 evenly spaced numbers between 0 and 5.\n",
    "\n",
    "```python\n",
    "# Exercise 3\n",
    "```\n",
    "\n",
    "---\n",
    "\n",
    "### Exercise 4:\n",
    "Create a 5x5 identity matrix using NumPy.\n",
    "\n",
    "```python\n",
    "# Exercise 4\n",
    "```\n",
    "\n",
    "---\n",
    "\n",
    "### Exercise 5:\n",
    "Create a 4x4 matrix with random values between 0 and 1.\n",
    "\n",
    "```python\n",
    "# Exercise 5\n",
    "```\n",
    "\n",
    "---\n",
    "\n",
    "### Exercise 6:\n",
    "Find the shape of a NumPy array.\n",
    "\n",
    "```python\n",
    "# Exercise 6\n",
    "```\n",
    "\n",
    "---\n",
    "\n",
    "### Exercise 7:\n",
    "Reshape a 1D NumPy array of 16 elements into a 4x4 matrix.\n",
    "\n",
    "```python\n",
    "# Exercise 7\n",
    "```\n",
    "\n",
    "---\n",
    "\n",
    "### Exercise 8:\n",
    "Find the data type of the elements in a NumPy array.\n",
    "\n",
    "```python\n",
    "# Exercise 8\n",
    "```\n",
    "\n",
    "---\n",
    "\n",
    "### Exercise 9:\n",
    "Create a NumPy array of integers from 1 to 100 and find all even numbers in the array.\n",
    "\n",
    "```python\n",
    "# Exercise 9\n",
    "```\n",
    "\n",
    "---\n",
    "\n",
    "### Exercise 10:\n",
    "Generate a 6x6 matrix of random integers between 10 and 50.\n",
    "\n",
    "```python\n",
    "# Exercise 10\n",
    "```\n",
    "\n",
    "---\n",
    "\n",
    "### Exercise 11:\n",
    "Slice a 2D NumPy array to extract a submatrix.\n",
    "\n",
    "```python\n",
    "# Exercise 11\n",
    "```\n",
    "\n",
    "---\n",
    "\n",
    "### Exercise 12:\n",
    "Calculate the sum of all elements in a NumPy array.\n",
    "\n",
    "```python\n",
    "# Exercise 12\n",
    "```\n",
    "\n",
    "---\n",
    "\n",
    "### Exercise 13:\n",
    "Calculate the mean, median, and standard deviation of a NumPy array.\n",
    "\n",
    "```python\n",
    "# Exercise 13\n",
    "```\n",
    "\n",
    "---\n",
    "\n",
    "### Exercise 14:\n",
    "Find the maximum and minimum values in a NumPy array.\n",
    "\n",
    "```python\n",
    "# Exercise 14\n",
    "```\n",
    "\n",
    "---\n",
    "\n",
    "### Exercise 15:\n",
    "Create a NumPy array of 20 random integers and find the index of the maximum value.\n",
    "\n",
    "```python\n",
    "# Exercise 15\n",
    "```\n",
    "\n",
    "---\n",
    "\n",
    "### Exercise 16:\n",
    "Create a NumPy array and reverse its elements.\n",
    "\n",
    "```python\n",
    "# Exercise 16\n",
    "```\n",
    "\n",
    "---\n",
    "\n",
    "### Exercise 17:\n",
    "Create a 3x3 matrix and multiply it element-wise by another 3x3 matrix.\n",
    "\n",
    "```python\n",
    "# Exercise 17\n",
    "```\n",
    "\n",
    "---\n",
    "\n",
    "### Exercise 18:\n",
    "Create a diagonal matrix from a given 1D array.\n",
    "\n",
    "```python\n",
    "# Exercise 18\n",
    "```\n",
    "\n",
    "---\n",
    "\n",
    "### Exercise 19:\n",
    "Perform matrix multiplication on two 2D NumPy arrays.\n",
    "\n",
    "```python\n",
    "# Exercise 19\n",
    "```\n",
    "\n",
    "---\n",
    "\n",
    "### Exercise 20:\n",
    "Flatten a 2D NumPy array into a 1D array.\n",
    "\n",
    "```python\n",
    "# Exercise 20\n",
    "```\n",
    "\n",
    "---\n",
    "\n",
    "### Exercise 21:\n",
    "Stack two NumPy arrays vertically.\n",
    "\n",
    "```python\n",
    "# Exercise 21\n",
    "```\n",
    "\n",
    "---\n",
    "\n",
    "### Exercise 22:\n",
    "Stack two NumPy arrays horizontally.\n",
    "\n",
    "```python\n",
    "# Exercise 22\n",
    "```\n",
    "\n",
    "---\n",
    "\n",
    "### Exercise 23:\n",
    "Split a NumPy array into multiple sub-arrays.\n",
    "\n",
    "```python\n",
    "# Exercise 23\n",
    "```\n",
    "\n",
    "---\n",
    "\n",
    "### Exercise 24:\n",
    "Generate a random NumPy array and round each element to two decimal places.\n",
    "\n",
    "```python\n",
    "# Exercise 24\n",
    "```\n",
    "\n",
    "---\n",
    "\n",
    "### Exercise 25:\n",
    "Find the unique elements of a NumPy array.\n",
    "\n",
    "```python\n",
    "# Exercise 25\n",
    "```\n",
    "\n",
    "---\n",
    "\n",
    "### Exercise 26:\n",
    "Replace all elements in a NumPy array that are less than a specific value with that value.\n",
    "\n",
    "```python\n",
    "# Exercise 26\n",
    "```\n",
    "\n",
    "---\n",
    "\n",
    "### Exercise 27:\n",
    "Find the cumulative sum of the elements in a NumPy array.\n",
    "\n",
    "```python\n",
    "# Exercise 27\n",
    "```\n",
    "\n",
    "---\n",
    "\n",
    "### Exercise 28:\n",
    "Create a NumPy array and find the number of non-zero elements in it.\n",
    "\n",
    "```python\n",
    "# Exercise 28\n",
    "```\n",
    "\n",
    "---\n",
    "\n",
    "### Exercise 29:\n",
    "Create a NumPy array of random integers and sort it in ascending order.\n",
    "\n",
    "```python\n",
    "# Exercise 29\n",
    "```\n",
    "\n",
    "---\n",
    "\n",
    "### Exercise 30:\n",
    "Find the row-wise and column-wise sum of a 3x3 matrix.\n",
    "\n",
    "```python\n",
    "# Exercise 30\n",
    "```\n",
    "\n",
    "---\n",
    "\n",
    "### Exercise 31:\n",
    "Generate a 2D NumPy array with random values and normalize it (scale the values between 0 and 1).\n",
    "\n",
    "```python\n",
    "# Exercise 31\n",
    "```\n",
    "\n",
    "---\n",
    "\n",
    "### Exercise 32:\n",
    "Create two NumPy arrays and find the dot product.\n",
    "\n",
    "```python\n",
    "# Exercise 32\n",
    "```\n",
    "\n",
    "---\n",
    "\n",
    "### Exercise 33:\n",
    "Find the trace of a square NumPy matrix.\n",
    "\n",
    "```python\n",
    "# Exercise 33\n",
    "```\n",
    "\n",
    "---\n",
    "\n",
    "### Exercise 34:\n",
    "Create a 2D array and swap two rows.\n",
    "\n",
    "```python\n",
    "# Exercise 34\n",
    "```\n",
    "\n",
    "---\n",
    "\n",
    "### Exercise 35:\n",
    "Create a 1D NumPy array and convert it into a column vector.\n",
    "\n",
    "```python\n",
    "# Exercise 35\n",
    "```\n",
    "\n",
    "---\n",
    "\n",
    "### Exercise 36:\n",
    "Find the determinant of a 3x3 matrix.\n",
    "\n",
    "```python\n",
    "# Exercise 36\n",
    "```\n",
    "\n",
    "---\n",
    "\n",
    "### Exercise 37:\n",
    "Find the eigenvalues and eigenvectors of a 2x2 matrix.\n",
    "\n",
    "```python\n",
    "# Exercise 37\n",
    "```\n",
    "\n",
    "---\n",
    "\n",
    "### Exercise 38:\n",
    "Solve a system of linear equations using NumPy.\n",
    "\n",
    "```python\n",
    "# Exercise 38\n",
    "```\n",
    "\n",
    "---\n",
    "\n",
    "### Exercise 39:\n",
    "Add Gaussian noise to a NumPy array.\n",
    "\n",
    "```python\n",
    "# Exercise 39\n",
    "```\n",
    "\n",
    "---\n",
    "\n",
    "### Exercise 40:\n",
    "Create a 4x4 matrix and extract the diagonal elements.\n",
    "\n",
    "```python\n",
    "# Exercise 40\n",
    "```\n",
    "\n",
    "---\n",
    "\n",
    "### Exercise 41:\n",
    "Generate a NumPy array of 100 random values and clip the values to a range between 10 and 50.\n",
    "\n",
    "```python\n",
    "# Exercise 41\n",
    "```\n",
    "\n",
    "---\n",
    "\n",
    "### Exercise 42:\n",
    "Create a 2D NumPy array and replace all negative values with zero.\n",
    "\n",
    "```python\n",
    "# Exercise 42\n",
    "```\n",
    "\n",
    "---\n",
    "\n",
    "### Exercise 43:\n",
    "Find the inner and outer products of two NumPy arrays.\n",
    "\n",
    "```python\n",
    "# Exercise 43\n",
    "```\n",
    "\n",
    "---\n",
    "\n",
    "### Exercise 44:\n",
    "Calculate the pairwise distances between points in a NumPy array.\n",
    "\n",
    "```python\n",
    "# Exercise 44\n",
    "```\n",
    "\n",
    "---\n",
    "\n",
    "### Exercise 45:\n",
    "Create a structured NumPy array with fields for `name`, `age`, and `height`.\n",
    "\n",
    "```python\n",
    "# Exercise 45\n",
    "```\n",
    "\n",
    "---\n",
    "\n",
    "### Exercise 46:\n",
    "Create a 5x5 matrix of random integers and count the occurrences of each unique value.\n",
    "\n",
    "```python\n",
    "# Exercise 46\n",
    "```\n",
    "\n",
    "---\n",
    "\n",
    "### Exercise 47:\n",
    "Generate a random 3x3 NumPy array and subtract the mean of each row from the corresponding row.\n",
    "\n",
    "```python\n",
    "# Exercise 47\n",
    "```\n",
    "\n",
    "---\n",
    "\n",
    "### Exercise 48:\n",
    "Create a NumPy array of random integers and check if any of the values are greater than 50.\n",
    "\n",
    "```python\n",
    "# Exercise 48\n",
    "```\n",
    "\n",
    "---\n",
    "\n",
    "### Exercise 49:\n",
    "Calculate the moving average of a 1D NumPy array.\n",
    "\n",
    "```python\n",
    "# Exercise 49\n",
    "```\n",
    "\n",
    "---\n",
    "\n",
    "### Exercise 50:\n",
    "Find the Pearson correlation coefficient between two NumPy arrays.\n",
    "\n",
    "```python\n",
    "# Exercise 50\n",
    "```\n",
    "\n",
    "---\n",
    "\n",
    "### Exercise 51:\n",
    "Convert a NumPy array of radians to degrees.\n",
    "\n",
    "```python\n",
    "# Exercise 51\n",
    "```\n",
    "\n",
    "---\n",
    "\n",
    "### Exercise 52:\n",
    "Create a random NumPy array and compute its variance and standard deviation.\n",
    "\n",
    "```python\n",
    "# Exercise 52\n",
    "```\n",
    "\n",
    "---\n",
    "\n",
    "### Exercise 53:\n",
    "Create a 2D NumPy array and find the indices of the maximum values along each axis.\n",
    "\n",
    "```python\n",
    "# Exercise 53\n",
    "```\n",
    "\n",
    "---\n",
    "\n",
    "### Exercise 54:\n",
    "Compute the inverse of a 2x2 NumPy matrix.\n",
    "\n",
    "```python\n",
    "# Exercise 54\n",
    "```\n",
    "\n",
    "---\n",
    "\n",
    "### Exercise 55:\n",
    "Create a NumPy array of 10 random values and standardize it (mean 0, variance 1).\n",
    "\n",
    "```python\n",
    "# Exercise 55\n",
    "```\n",
    "\n",
    "---\n",
    "\n",
    "### Exercise 56:\n",
    "Perform element-wise addition and subtraction on two NumPy arrays.\n",
    "\n",
    "```python\n",
    "# Exercise 56\n",
    "```\n",
    "\n",
    "---\n",
    "\n",
    "### Exercise 57:\n",
    "Create a NumPy array of random values and find the maximum element's index.\n",
    "\n",
    "```python\n",
    "# Exercise 57\n",
    "```\n",
    "\n",
    "---\n",
    "\n",
    "### Exercise 58:\n",
    "Create a 3x3 NumPy array and rotate it by 90 degrees.\n",
    "\n",
    "```python\n",
    "# Exercise 58\n",
    "```\n",
    "\n",
    "---\n",
    "\n",
    "### Exercise 59:\n",
    "Compute the Frobenius norm of a matrix.\n",
    "\n",
    "```python\n",
    "# Exercise 59\n",
    "```\n",
    "\n",
    "---\n",
    "\n",
    "### Exercise 60:\n",
    "Create a 3D NumPy array and slice out a subarray.\n",
    "\n",
    "```python\n",
    "# Exercise 60\n",
    "```\n",
    "\n",
    "---\n"
   ]
  },
  {
   "cell_type": "markdown",
   "id": "05fa5ec6-b977-421b-8b3a-41f8bfff1432",
   "metadata": {},
   "source": [
    "### Exercise 1:\n",
    "Create a NumPy array of integers from 1 to 10.\n",
    "\n",
    "# Exercise 1"
   ]
  },
  {
   "cell_type": "code",
   "execution_count": 4,
   "id": "98d0d3d9-e201-4f4f-befe-7b0bea3b39f5",
   "metadata": {},
   "outputs": [],
   "source": [
    "import numpy as np"
   ]
  },
  {
   "cell_type": "code",
   "execution_count": 5,
   "id": "21048dbb-078a-4fd6-8fd2-eec2dfbf9fef",
   "metadata": {},
   "outputs": [
    {
     "name": "stdout",
     "output_type": "stream",
     "text": [
      "[ 1  2  3  4  5  6  7  8  9 10]\n"
     ]
    }
   ],
   "source": [
    "I = np.arange(1,11)\n",
    "print(I)"
   ]
  },
  {
   "cell_type": "markdown",
   "id": "609fd107-ede5-4eed-b468-4739278b458f",
   "metadata": {},
   "source": [
    "### Exercise 2:\n",
    "Create a 3x3 NumPy array filled with zeros."
   ]
  },
  {
   "cell_type": "code",
   "execution_count": 7,
   "id": "3a614b3d-194e-43dd-bf24-9467d86d7b49",
   "metadata": {},
   "outputs": [
    {
     "name": "stdout",
     "output_type": "stream",
     "text": [
      "[[0. 0. 0.]\n",
      " [0. 0. 0.]\n",
      " [0. 0. 0.]]\n"
     ]
    }
   ],
   "source": [
    "A = np.zeros((3,3))\n",
    "print(A)"
   ]
  },
  {
   "cell_type": "markdown",
   "id": "b7ba6ab4-10f0-4292-8574-4e5e31daa14d",
   "metadata": {},
   "source": [
    "### Exercise 3:\n",
    "Create a NumPy array of 10 evenly spaced numbers between 0 and 5."
   ]
  },
  {
   "cell_type": "code",
   "execution_count": 9,
   "id": "6261475e-9ebf-48a7-b7b6-c06b0b76dafd",
   "metadata": {},
   "outputs": [
    {
     "name": "stdout",
     "output_type": "stream",
     "text": [
      "[0.         0.55555556 1.11111111 1.66666667 2.22222222 2.77777778\n",
      " 3.33333333 3.88888889 4.44444444 5.        ]\n"
     ]
    }
   ],
   "source": [
    "W = np.linspace(0, 5, 10)\n",
    "print(W)"
   ]
  },
  {
   "cell_type": "markdown",
   "id": "220a0ed2-c24e-4275-8132-9217cd89a052",
   "metadata": {},
   "source": [
    "### Exercise 4:\n",
    "Create a 5x5 identity matrix using NumPy."
   ]
  },
  {
   "cell_type": "code",
   "execution_count": 11,
   "id": "efede598-548b-4b1e-b518-0b4276a56eec",
   "metadata": {},
   "outputs": [
    {
     "name": "stdout",
     "output_type": "stream",
     "text": [
      "[[1. 0. 0. 0. 0.]\n",
      " [0. 1. 0. 0. 0.]\n",
      " [0. 0. 1. 0. 0.]\n",
      " [0. 0. 0. 1. 0.]\n",
      " [0. 0. 0. 0. 1.]]\n"
     ]
    }
   ],
   "source": [
    "M = np.eye(5)         \n",
    "print(M)"
   ]
  },
  {
   "cell_type": "markdown",
   "id": "6828e3c5-e15e-4990-9cd0-c101c7fa68f1",
   "metadata": {},
   "source": [
    "### Exercise 5:\n",
    "Create a 4x4 matrix with random values between 0 and 1."
   ]
  },
  {
   "cell_type": "code",
   "execution_count": 13,
   "id": "cbde76cf-3e92-4704-923d-25ff2973d96a",
   "metadata": {},
   "outputs": [
    {
     "name": "stdout",
     "output_type": "stream",
     "text": [
      "E= [[0.94752295 0.93323028 0.46070664 0.70195984]\n",
      " [0.38648258 0.01470888 0.01874509 0.17235362]\n",
      " [0.63391798 0.36337605 0.01099445 0.05218082]\n",
      " [0.42585284 0.99056121 0.72612567 0.16206534]]\n"
     ]
    }
   ],
   "source": [
    "e = np.random.random((4,4)) \n",
    "print(\"E=\",e)   "
   ]
  },
  {
   "cell_type": "markdown",
   "id": "c98be142-7422-4db8-88c8-f5b165fd2083",
   "metadata": {},
   "source": [
    "### Exercise 6:\n",
    "Find the shape of a NumPy array."
   ]
  },
  {
   "cell_type": "code",
   "execution_count": 15,
   "id": "274f304e-4fe6-4b1c-a288-7bb39af47d0c",
   "metadata": {},
   "outputs": [
    {
     "name": "stdout",
     "output_type": "stream",
     "text": [
      "(2, 3)\n",
      "7 0 3\n"
     ]
    }
   ],
   "source": [
    "t = np.array([[5,10,40],[7,0,3]])    \n",
    "print(t.shape)                     \n",
    "print(t[1, 0], t[1, 1], t[1, 2]) "
   ]
  },
  {
   "cell_type": "markdown",
   "id": "b7af7ec7-cc36-4aae-900d-665d63617e99",
   "metadata": {},
   "source": [
    "### Exercise 7:\n",
    "Reshape a 1D NumPy array of 16 elements into a 4x4 matrix."
   ]
  },
  {
   "cell_type": "code",
   "execution_count": 17,
   "id": "41ba73cf-1942-4fe5-b1ac-e5d1e6b1644c",
   "metadata": {},
   "outputs": [
    {
     "name": "stdout",
     "output_type": "stream",
     "text": [
      "[[ 1  2  3  4]\n",
      " [ 5  6  7  8]\n",
      " [ 9 10 11 12]\n",
      " [13 14 15 16]]\n"
     ]
    }
   ],
   "source": [
    "o = np.arange(1,17).reshape((4,4))         \n",
    "print(o)"
   ]
  },
  {
   "cell_type": "markdown",
   "id": "7ef89517-fa43-4b3f-a0be-bf7752953832",
   "metadata": {},
   "source": [
    "### Exercise 8:\n",
    "Find the data type of the elements in a NumPy array."
   ]
  },
  {
   "cell_type": "code",
   "execution_count": 19,
   "id": "e1cffd40-9703-449b-af16-988bcb241b70",
   "metadata": {},
   "outputs": [
    {
     "name": "stdout",
     "output_type": "stream",
     "text": [
      "int32\n"
     ]
    }
   ],
   "source": [
    "dt= np.array([3, 0, 7])\n",
    "print(dt.dtype)"
   ]
  },
  {
   "cell_type": "markdown",
   "id": "5e9fe231-9646-410f-ad2d-7986ef0ef431",
   "metadata": {},
   "source": [
    "### Exercise 9:\n",
    "Create a NumPy array of integers from 1 to 100 and find all even numbers in the array."
   ]
  },
  {
   "cell_type": "code",
   "execution_count": 21,
   "id": "d23b48ac-0b94-486b-9d0d-ef2018a3de71",
   "metadata": {},
   "outputs": [
    {
     "data": {
      "text/plain": [
       "array([  2,   4,   6,   8,  10,  12,  14,  16,  18,  20,  22,  24,  26,\n",
       "        28,  30,  32,  34,  36,  38,  40,  42,  44,  46,  48,  50,  52,\n",
       "        54,  56,  58,  60,  62,  64,  66,  68,  70,  72,  74,  76,  78,\n",
       "        80,  82,  84,  86,  88,  90,  92,  94,  96,  98, 100])"
      ]
     },
     "execution_count": 21,
     "metadata": {},
     "output_type": "execute_result"
    }
   ],
   "source": [
    "r = np.arange(1,101)\n",
    "r[(r%2 == 0)]"
   ]
  },
  {
   "cell_type": "markdown",
   "id": "083f8d40-fa0d-4d75-af64-baf3a6903ebe",
   "metadata": {},
   "source": [
    "### Exercise 10:\n",
    "Generate a 6x6 matrix of random integers between 10 and 50."
   ]
  },
  {
   "cell_type": "code",
   "execution_count": 23,
   "id": "9d8e0a6a-ec91-471a-8919-e336d0dc0973",
   "metadata": {},
   "outputs": [
    {
     "name": "stdout",
     "output_type": "stream",
     "text": [
      "[[28 13 37 33 22 14]\n",
      " [39 18 22 34 28 18]\n",
      " [31 26 13 14 17 47]\n",
      " [37 42 39 13 25 45]\n",
      " [21 13 12 25 43 32]\n",
      " [29 21 30 48 27 30]]\n"
     ]
    }
   ],
   "source": [
    "f = np.random.randint(10,51, size=(6, 6))\n",
    "print(f)"
   ]
  },
  {
   "cell_type": "code",
   "execution_count": 24,
   "id": "ff35d4a7-8a4d-472d-96da-08d5646335c7",
   "metadata": {},
   "outputs": [
    {
     "name": "stdout",
     "output_type": "stream",
     "text": [
      "Help on built-in function random:\n",
      "\n",
      "random(...) method of numpy.random.mtrand.RandomState instance\n",
      "    random(size=None)\n",
      "\n",
      "    Return random floats in the half-open interval [0.0, 1.0). Alias for\n",
      "    `random_sample` to ease forward-porting to the new random API.\n",
      "\n"
     ]
    }
   ],
   "source": [
    "help(np.random.random)"
   ]
  },
  {
   "cell_type": "markdown",
   "id": "68f374b6-35ba-4f6b-a280-4b9667bf896c",
   "metadata": {},
   "source": [
    "### Exercise 11:\n",
    "Slice a 2D NumPy array to extract a submatrix."
   ]
  },
  {
   "cell_type": "code",
   "execution_count": 26,
   "id": "79b2da5a-0a6d-4ccd-838d-47f1a56ba882",
   "metadata": {},
   "outputs": [
    {
     "name": "stdout",
     "output_type": "stream",
     "text": [
      "[[2]\n",
      " [6]]\n"
     ]
    }
   ],
   "source": [
    "a = np.array([[1,2,3,4], [5,6,7,8]])\n",
    "b = a[:2, 1:2]\n",
    "print(b)"
   ]
  },
  {
   "cell_type": "markdown",
   "id": "a00882dc-84fa-4a6d-b22b-aaf06f56dc89",
   "metadata": {},
   "source": [
    "### Exercise 12:\n",
    "Calculate the sum of all elements in a NumPy array."
   ]
  },
  {
   "cell_type": "code",
   "execution_count": 28,
   "id": "21f40b00-216c-47ff-bb75-a8a9aaa84715",
   "metadata": {},
   "outputs": [
    {
     "name": "stdout",
     "output_type": "stream",
     "text": [
      "21\n"
     ]
    }
   ],
   "source": [
    "x = np.array([1,3,4,6,7])\n",
    "print(np.sum(x))"
   ]
  },
  {
   "cell_type": "markdown",
   "id": "f76f103f-1ed3-46f6-93f3-b4d2bfe6c0d8",
   "metadata": {},
   "source": [
    "### Exercise 13:\n",
    "Calculate the mean, median, and standard deviation of a NumPy array."
   ]
  },
  {
   "cell_type": "code",
   "execution_count": 30,
   "id": "345a5059-1f56-4892-b18e-d59e93140be1",
   "metadata": {},
   "outputs": [
    {
     "name": "stdout",
     "output_type": "stream",
     "text": [
      "4.2\n"
     ]
    }
   ],
   "source": [
    "x = np.array([1,3,4,6,7])\n",
    "print(np.mean(x))"
   ]
  },
  {
   "cell_type": "code",
   "execution_count": 31,
   "id": "c740f8db-d248-493d-8bb2-e0793faf7297",
   "metadata": {},
   "outputs": [
    {
     "name": "stdout",
     "output_type": "stream",
     "text": [
      "4.0\n"
     ]
    }
   ],
   "source": [
    "x = np.array([1,3,4,6,7])\n",
    "print(np.median(x))"
   ]
  },
  {
   "cell_type": "code",
   "execution_count": 32,
   "id": "3efbc8e2-dfb9-4fb3-a5b4-a2e42e9212f7",
   "metadata": {},
   "outputs": [
    {
     "name": "stdout",
     "output_type": "stream",
     "text": [
      "2.1354156504062622\n"
     ]
    }
   ],
   "source": [
    "x = np.array([1,3,4,6,7])\n",
    "print(np.std(x))"
   ]
  },
  {
   "cell_type": "markdown",
   "id": "7f10d9dd-9f40-404e-b2e8-a0902c706801",
   "metadata": {},
   "source": [
    "### Exercise 14:\n",
    "Find the maximum and minimum values in a NumPy array."
   ]
  },
  {
   "cell_type": "code",
   "execution_count": 34,
   "id": "8bdc45af-ce5a-4208-8e84-d1cb621cc7b9",
   "metadata": {},
   "outputs": [
    {
     "name": "stdout",
     "output_type": "stream",
     "text": [
      "[[5 5 3]\n",
      " [2 5 4]\n",
      " [6 2 4]]\n",
      "[5 5 6]\n",
      "[3 2 2]\n"
     ]
    }
   ],
   "source": [
    "g = np.random.randint(1,7,(3,3))\n",
    "c = np.max(g, axis=1)\n",
    "h = np.min(g, axis=1)\n",
    "print(g)\n",
    "print(c)\n",
    "print(h)"
   ]
  },
  {
   "cell_type": "markdown",
   "id": "84919d9c-8af5-4721-81e0-29765d95865b",
   "metadata": {},
   "source": [
    "### Exercise 15:\n",
    "Create a NumPy array of 20 random integers and find the index of the maximum value."
   ]
  },
  {
   "cell_type": "code",
   "execution_count": 36,
   "id": "dacde8c1-a732-4b02-a2c5-b51e2b5cc09f",
   "metadata": {},
   "outputs": [
    {
     "name": "stdout",
     "output_type": "stream",
     "text": [
      "[ 9 27 49 11 41  9 34 26 14 18 22 29 31 24  9 34 34  5 11 23]\n",
      "49\n",
      "5\n",
      "2\n",
      "17\n"
     ]
    }
   ],
   "source": [
    "v = np.random.randint(1,50,20)\n",
    "h = np.max(v)\n",
    "k = np.min(v)\n",
    "p = np.argmax(v)\n",
    "o = np.argmin(v)\n",
    "print(v)\n",
    "print(h)\n",
    "print(k)\n",
    "print(p)\n",
    "print(o)"
   ]
  },
  {
   "cell_type": "markdown",
   "id": "6caa1e41-3fa7-449c-8b45-ab2b2361fb13",
   "metadata": {},
   "source": [
    "### Exercise 16:\n",
    "Create a NumPy array and reverse its elements."
   ]
  },
  {
   "cell_type": "code",
   "execution_count": 38,
   "id": "708c3ad7-fdfd-4ecd-ac69-b19b000cb2b3",
   "metadata": {},
   "outputs": [
    {
     "name": "stdout",
     "output_type": "stream",
     "text": [
      "[8 9 7 1]\n"
     ]
    }
   ],
   "source": [
    "g = np.array([1,7,9,8])\n",
    "print(g[::-1])"
   ]
  },
  {
   "cell_type": "markdown",
   "id": "5c32ff07-a789-4762-b579-0b4b2e66c0da",
   "metadata": {},
   "source": [
    "### Exercise 17:\n",
    "Create a 3x3 matrix and multiply it element-wise by another 3x3 matrix."
   ]
  },
  {
   "cell_type": "code",
   "execution_count": 40,
   "id": "c65e6816-dd63-45af-a4b8-0ff1c7d6ecc2",
   "metadata": {},
   "outputs": [
    {
     "name": "stdout",
     "output_type": "stream",
     "text": [
      "[[1 4 3]\n",
      " [5 3 5]\n",
      " [2 1 6]]\n",
      "[[3 2 3]\n",
      " [3 2 2]\n",
      " [3 3 3]]\n"
     ]
    }
   ],
   "source": [
    "z = np.random.randint(1,7,(3,3))\n",
    "f = np.random.randint(2,4,(3,3))\n",
    "print(z)\n",
    "print(f)"
   ]
  },
  {
   "cell_type": "code",
   "execution_count": 41,
   "id": "83a552f4-b3d9-497f-a74e-b687728bf824",
   "metadata": {},
   "outputs": [
    {
     "name": "stdout",
     "output_type": "stream",
     "text": [
      "[[ 3  8  9]\n",
      " [15  6 10]\n",
      " [ 6  3 18]]\n"
     ]
    }
   ],
   "source": [
    "d = np.multiply(z,f)\n",
    "print(d)"
   ]
  },
  {
   "cell_type": "markdown",
   "id": "c68ac68d-2f02-4cfa-9931-567810499645",
   "metadata": {},
   "source": [
    "### Exercise 18:\n",
    "Create a diagonal matrix from a given 1D array."
   ]
  },
  {
   "cell_type": "code",
   "execution_count": 43,
   "id": "9e91fb91-98bf-48de-a4fa-0174414ca706",
   "metadata": {},
   "outputs": [
    {
     "name": "stdout",
     "output_type": "stream",
     "text": [
      "[[12  0  0  0]\n",
      " [ 0  4  0  0]\n",
      " [ 0  0  2  0]\n",
      " [ 0  0  0  1]]\n"
     ]
    }
   ],
   "source": [
    "d = np.array([12, 4, 2, 1])\n",
    "f = np.diagflat(d)\n",
    "print(f)"
   ]
  },
  {
   "cell_type": "markdown",
   "id": "af942821-61ec-4749-ac85-f454a29b9939",
   "metadata": {},
   "source": [
    "### Exercise 19:\n",
    "Perform matrix multiplication on two 2D NumPy arrays."
   ]
  },
  {
   "cell_type": "code",
   "execution_count": 45,
   "id": "e3150693-9fdb-42bd-8ffb-499e7e54dbd4",
   "metadata": {},
   "outputs": [
    {
     "name": "stdout",
     "output_type": "stream",
     "text": [
      "[[2 1 5]\n",
      " [6 1 3]\n",
      " [4 6 6]]\n",
      "[[2 2 2]\n",
      " [3 3 2]\n",
      " [3 3 2]]\n"
     ]
    }
   ],
   "source": [
    "z = np.random.randint(1,7,(3,3))\n",
    "f = np.random.randint(2,4,(3,3))\n",
    "print(z)\n",
    "print(f)"
   ]
  },
  {
   "cell_type": "code",
   "execution_count": 165,
   "id": "7ceb1b83-b5ea-473c-b042-af8b04cd28a8",
   "metadata": {},
   "outputs": [
    {
     "name": "stdout",
     "output_type": "stream",
     "text": [
      "[[22 22 16]\n",
      " [24 24 20]\n",
      " [44 44 32]]\n"
     ]
    }
   ],
   "source": [
    "d = np.dot(z,f)\n",
    "print(d)"
   ]
  },
  {
   "cell_type": "markdown",
   "id": "72117c7f-7ddc-4ecb-97c3-73f4387fa73c",
   "metadata": {},
   "source": [
    "### Exercise 20:\n",
    "Flatten a 2D NumPy array into a 1D array."
   ]
  },
  {
   "cell_type": "code",
   "execution_count": 48,
   "id": "d087a3cf-e673-4101-9d35-baec538c5b8b",
   "metadata": {},
   "outputs": [
    {
     "data": {
      "text/plain": [
       "array([2, 3, 4, 5])"
      ]
     },
     "execution_count": 48,
     "metadata": {},
     "output_type": "execute_result"
    }
   ],
   "source": [
    "y=np.arange(2,6).reshape((2,2))\n",
    "y.flatten()"
   ]
  },
  {
   "cell_type": "markdown",
   "id": "93edbf0e-f017-4122-b677-39dcd99b9115",
   "metadata": {},
   "source": [
    "### Exercise 21:\n",
    "Stack two NumPy arrays vertically."
   ]
  },
  {
   "cell_type": "code",
   "execution_count": 50,
   "id": "75e33d27-fb81-44c7-a316-d164c0198675",
   "metadata": {},
   "outputs": [
    {
     "data": {
      "text/plain": [
       "array([[1, 2, 3, 4],\n",
       "       [5, 6, 7, 8]])"
      ]
     },
     "execution_count": 50,
     "metadata": {},
     "output_type": "execute_result"
    }
   ],
   "source": [
    "s = np.array([1,2,3,4])\n",
    "d = np.array([5,6,7,8])\n",
    "np.vstack((s,d))\n"
   ]
  },
  {
   "cell_type": "markdown",
   "id": "87e4498a-749f-409c-accc-7c26e4824235",
   "metadata": {},
   "source": [
    "### Exercise 22:\r\n",
    "Stack two NumPy arrays horizontally."
   ]
  },
  {
   "cell_type": "code",
   "execution_count": 52,
   "id": "422991fa-41aa-48af-ac86-a3fe93493c09",
   "metadata": {},
   "outputs": [
    {
     "data": {
      "text/plain": [
       "array([1, 2, 3, 4, 5, 6, 7, 8])"
      ]
     },
     "execution_count": 52,
     "metadata": {},
     "output_type": "execute_result"
    }
   ],
   "source": [
    "s = np.array([1,2,3,4])\n",
    "d = np.array([5,6,7,8])\n",
    "np.hstack((s,d))"
   ]
  },
  {
   "cell_type": "markdown",
   "id": "b8bc460f-195e-4ab9-80bc-8185e7154fef",
   "metadata": {},
   "source": [
    "### Exercise 23:\n",
    "Split a NumPy array into multiple sub-arrays."
   ]
  },
  {
   "cell_type": "code",
   "execution_count": 85,
   "id": "d459a2e3-a669-4417-b8bf-e31e058897f3",
   "metadata": {},
   "outputs": [
    {
     "name": "stdout",
     "output_type": "stream",
     "text": [
      "[ 9 11 12 13 14 15]\n",
      "[array([ 9, 11]), array([12, 13]), array([14, 15])]\n"
     ]
    }
   ],
   "source": [
    "x = np.array([9, 11, 12, 13, 14,15])\n",
    "y = np.split(x, [2, 4])\n",
    "print(x)\n",
    "print(y)"
   ]
  },
  {
   "cell_type": "markdown",
   "id": "1e28f39d-5307-4968-9e31-a7ee41dab548",
   "metadata": {},
   "source": [
    "### Exercise 24:\n",
    "Generate a random NumPy array and round each element to two decimal places."
   ]
  },
  {
   "cell_type": "code",
   "execution_count": 90,
   "id": "3a57fd66-1622-4b10-8a63-99193bc8ded0",
   "metadata": {},
   "outputs": [
    {
     "name": "stdout",
     "output_type": "stream",
     "text": [
      "[[0.94780456 0.46443903]]\n",
      "[[0.95 0.46]]\n"
     ]
    }
   ],
   "source": [
    "a = np.random.rand(1, 2)\n",
    "b = np.round(a, 2)\n",
    "print (a)\n",
    "print(b)"
   ]
  },
  {
   "cell_type": "markdown",
   "id": "ada4c02b-4414-4cb5-b173-4c6385dbdb10",
   "metadata": {},
   "source": [
    "### Exercise 25:\n",
    "Find the unique elements of a NumPy array."
   ]
  },
  {
   "cell_type": "code",
   "execution_count": 104,
   "id": "67ec9b72-cdf1-42c4-b45e-16bfc63b8950",
   "metadata": {},
   "outputs": [
    {
     "name": "stdout",
     "output_type": "stream",
     "text": [
      "[ 6  7  8  9 10 11 12]\n"
     ]
    }
   ],
   "source": [
    "w = np.array([6, 7, 8, 9, 10, 11, 12])\n",
    "v = np.unique(w)\n",
    "print(v)"
   ]
  },
  {
   "cell_type": "markdown",
   "id": "7436f858-6072-44b3-9e01-e2b9124b0bba",
   "metadata": {},
   "source": [
    "### Exercise 26:\n",
    "Replace all elements in a NumPy array that are less than a specific value with that value."
   ]
  },
  {
   "cell_type": "code",
   "execution_count": 109,
   "id": "732cc057-d908-4950-acf1-dfc1c11ec3f9",
   "metadata": {},
   "outputs": [
    {
     "name": "stdout",
     "output_type": "stream",
     "text": [
      "[4 5 4 8 4 7]\n"
     ]
    }
   ],
   "source": [
    "b = np.array([1, 5, 3, 8, 2, 7])\n",
    "value = 4\n",
    "b[b < value] = value\n",
    "print(b)"
   ]
  },
  {
   "cell_type": "markdown",
   "id": "30e523f2-1065-4c03-b27b-e8f9bd2d5b8a",
   "metadata": {},
   "source": [
    "### Exercise 27:\n",
    "Find the cumulative sum of the elements in a NumPy array."
   ]
  },
  {
   "cell_type": "code",
   "execution_count": 118,
   "id": "92db25f4-c0de-4ea4-82a1-3c9fcb2ffca2",
   "metadata": {},
   "outputs": [
    {
     "name": "stdout",
     "output_type": "stream",
     "text": [
      "[ 7 13 22]\n"
     ]
    }
   ],
   "source": [
    "u = np.array([7, 6, 9])\n",
    "cum= np.cumsum(u)\n",
    "print(cum)"
   ]
  },
  {
   "cell_type": "markdown",
   "id": "32a5317c-531b-45c2-9c13-5ca1adbea051",
   "metadata": {},
   "source": [
    "### Exercise 28:\n",
    "Create a NumPy array and find the number of non-zero elements in it."
   ]
  },
  {
   "cell_type": "code",
   "execution_count": 134,
   "id": "43641c4c-18b8-4a53-b71b-69191d2f930d",
   "metadata": {},
   "outputs": [
    {
     "name": "stdout",
     "output_type": "stream",
     "text": [
      "5\n"
     ]
    }
   ],
   "source": [
    "g = np.array([0, 1, 2, 0, 3, 4, 0, 5])\n",
    "not_zero = np.count_nonzero(g)\n",
    "print(not_zero)"
   ]
  },
  {
   "cell_type": "markdown",
   "id": "7907df5f-ef4a-4e39-9a7e-551f8cbf19c1",
   "metadata": {},
   "source": [
    "### Exercise 29:\n",
    "Create a NumPy array of random integers and sort it in ascending order."
   ]
  },
  {
   "cell_type": "code",
   "execution_count": 136,
   "id": "de149b3b-da44-4620-8f85-67549afe1ddb",
   "metadata": {},
   "outputs": [
    {
     "name": "stdout",
     "output_type": "stream",
     "text": [
      "[29  9 21 10 18 34  3]\n",
      "[ 3  9 10 18 21 29 34]\n"
     ]
    }
   ],
   "source": [
    "t = np.random.randint(1, 51, size=7)\n",
    "c = np.sort(t)\n",
    "print(t)\n",
    "print(c)"
   ]
  },
  {
   "cell_type": "markdown",
   "id": "87d959a8-2fd1-4626-9d45-b1c92d77bc17",
   "metadata": {},
   "source": [
    "### Exercise 30:\n",
    "Find the row-wise and column-wise sum of a 3x3 matrix."
   ]
  },
  {
   "cell_type": "code",
   "execution_count": 157,
   "id": "639d1074-3a84-48ba-885d-f29b4ac17a5f",
   "metadata": {},
   "outputs": [
    {
     "name": "stdout",
     "output_type": "stream",
     "text": [
      "[[ 1  2  3]\n",
      " [ 5  6  7]\n",
      " [ 8  9 10]]\n",
      "[ 6 18 27]\n",
      "[14 17 20]\n"
     ]
    }
   ],
   "source": [
    "a = np.array([[1,2,3], [5,6,7],[8,9,10]])\n",
    "s = np.sum(a, axis=1)\n",
    "c = np.sum(a, axis=0)\n",
    "print(a)\n",
    "print(s)\n",
    "print(c)"
   ]
  },
  {
   "cell_type": "markdown",
   "id": "ce2de498-5b15-4a44-b875-6b756e912482",
   "metadata": {},
   "source": [
    "### Exercise 31:\n",
    "Generate a 2D NumPy array with random values and normalize it (scale the values between 0 and 1)."
   ]
  },
  {
   "cell_type": "code",
   "execution_count": 162,
   "id": "eff844a4-4f65-4a1d-a485-b58f41f2acc3",
   "metadata": {},
   "outputs": [
    {
     "name": "stdout",
     "output_type": "stream",
     "text": [
      "[[0.71813564 0.23224726 0.01218684]\n",
      " [0.53544361 0.24728902 0.02188397]]\n",
      "[[1.         0.31172292 0.        ]\n",
      " [0.74121065 0.33303007 0.0137363 ]]\n"
     ]
    }
   ],
   "source": [
    "e = np.random.rand(2, 3)\n",
    "min = np.min(e)\n",
    "max = np.max(e)\n",
    "norm = (e - min) / (max - min)\n",
    "print(e)\n",
    "print(norm)"
   ]
  },
  {
   "cell_type": "markdown",
   "id": "07dff237-5846-4795-98a7-f945fa61ded4",
   "metadata": {},
   "source": [
    "### Exercise 32:\n",
    "Create two NumPy arrays and find the dot product."
   ]
  },
  {
   "cell_type": "code",
   "execution_count": 167,
   "id": "8ff7203a-8809-44d6-8ea1-b04e8a9c8432",
   "metadata": {},
   "outputs": [
    {
     "name": "stdout",
     "output_type": "stream",
     "text": [
      "[[ 34  33  42]\n",
      " [102  97 118]\n",
      " [153 145 175]]\n"
     ]
    }
   ],
   "source": [
    "a = np.array([[1,2,3], [5,6,7],[8,9,10]])\n",
    "b = np.array([[4,5,6], [9,5,3],[4,6,10]])\n",
    "x = np.dot(a,b)\n",
    "print(x)"
   ]
  },
  {
   "cell_type": "markdown",
   "id": "63195659-57eb-4185-963a-976276908ed6",
   "metadata": {},
   "source": [
    "### Exercise 33:\n",
    "Find the trace of a square NumPy matrix."
   ]
  },
  {
   "cell_type": "code",
   "execution_count": 172,
   "id": "6aa75946-eb16-4f43-9478-371116f3e6ce",
   "metadata": {},
   "outputs": [
    {
     "name": "stdout",
     "output_type": "stream",
     "text": [
      "[[1 2 3]\n",
      " [4 5 6]\n",
      " [7 8 9]]\n",
      "15\n"
     ]
    }
   ],
   "source": [
    "m = np.array([[1, 2, 3],[4, 5, 6],[7, 8, 9]])\n",
    "tr = np.trace(m)\n",
    "print(m)\n",
    "print(tr)"
   ]
  },
  {
   "cell_type": "markdown",
   "id": "304b5488-e207-4482-ad65-70d050be6411",
   "metadata": {},
   "source": [
    "### Exercise 34:\n",
    "Create a 2D array and swap two rows."
   ]
  },
  {
   "cell_type": "code",
   "execution_count": 179,
   "id": "10a19e17-3ec3-486d-98d9-e560f28ccf11",
   "metadata": {},
   "outputs": [
    {
     "name": "stdout",
     "output_type": "stream",
     "text": [
      "[[4 5 6]\n",
      " [1 2 3]\n",
      " [7 8 9]]\n",
      "[[4 5 6]\n",
      " [1 2 3]]\n"
     ]
    }
   ],
   "source": [
    "s = np.array([[1, 2, 3],[4, 5, 6],[7, 8, 9]])\n",
    "x = s[[0, 1]] = s[[1, 0]] # Swap the first row (index 0) and the second row (index 1)\n",
    "print(s)\n",
    "print(x)\n",
    "\n"
   ]
  },
  {
   "cell_type": "markdown",
   "id": "cc317ec2-acef-49f0-aeb8-b95905b5512e",
   "metadata": {},
   "source": [
    "### Exercise 35:\n",
    "Create a 1D NumPy array and convert it into a column vector."
   ]
  },
  {
   "cell_type": "code",
   "execution_count": 184,
   "id": "4be25ae1-d15f-48c0-a897-3be0e532a728",
   "metadata": {},
   "outputs": [
    {
     "name": "stdout",
     "output_type": "stream",
     "text": [
      "Original 1D array:\n",
      "[1 2 3 4 5]\n",
      "\n",
      "Column vector:\n",
      "[[1]\n",
      " [2]\n",
      " [3]\n",
      " [4]\n",
      " [5]]\n"
     ]
    }
   ],
   "source": [
    "d = np.array([1, 2, 3, 4, 5])\n",
    "col_vec = d.reshape(-1, 1)\n",
    "print(\"Original 1D array:\")\n",
    "print(d)\n",
    "print(\"\\nColumn vector:\")\n",
    "print(col_vec)"
   ]
  },
  {
   "cell_type": "markdown",
   "id": "733a0f8a-e514-48ca-8af3-93af02192913",
   "metadata": {},
   "source": [
    "### Exercise 36:\n",
    "Find the determinant of a 3x3 matrix."
   ]
  },
  {
   "cell_type": "code",
   "execution_count": 189,
   "id": "82a6891b-05dd-427d-9252-0eb7b20ae5f1",
   "metadata": {},
   "outputs": [
    {
     "name": "stdout",
     "output_type": "stream",
     "text": [
      "[[1 2 3]\n",
      " [4 5 6]\n",
      " [7 8 9]]\n",
      "6.66133814775094e-16\n"
     ]
    }
   ],
   "source": [
    "m = np.array([[1, 2, 3],[4, 5, 6],[7, 8, 9]])\n",
    "d = np.linalg.det(m)\n",
    "print(m)\n",
    "print(d)"
   ]
  },
  {
   "cell_type": "markdown",
   "id": "155cddef-6e79-4e9f-8d59-ceecada86d26",
   "metadata": {},
   "source": [
    "### Exercise 37:\n",
    "Find the eigenvalues and eigenvectors of a 2x2 matrix."
   ]
  },
  {
   "cell_type": "code",
   "execution_count": 194,
   "id": "f3d69670-416b-43c2-a7a9-8314541a0fb7",
   "metadata": {},
   "outputs": [
    {
     "name": "stdout",
     "output_type": "stream",
     "text": [
      "[[4 2]\n",
      " [1 3]]\n",
      "[5. 2.]\n",
      "[[ 0.89442719 -0.70710678]\n",
      " [ 0.4472136   0.70710678]]\n"
     ]
    }
   ],
   "source": [
    "x = np.array([[4, 2], [1, 3]])\n",
    "eigenval, eigenvec = np.linalg.eig(x)\n",
    "print(x)\n",
    "print(eigenval)\n",
    "print(eigenvec)"
   ]
  },
  {
   "cell_type": "markdown",
   "id": "64cda7b2-66a6-4919-99f9-82b6463a4122",
   "metadata": {},
   "source": [
    "### Exercise 38:\n",
    "Solve a system of linear equations using NumPy."
   ]
  },
  {
   "cell_type": "code",
   "execution_count": 199,
   "id": "15915f20-991e-4d69-8c92-1f45315473da",
   "metadata": {},
   "outputs": [
    {
     "name": "stdout",
     "output_type": "stream",
     "text": [
      "[1.9 1.4]\n"
     ]
    }
   ],
   "source": [
    "A = np.array([[2, 3],[4, 1]])\n",
    "b = np.array([8, 9])\n",
    "sol = np.linalg.solve(A, b)\n",
    "print(sol)"
   ]
  },
  {
   "cell_type": "markdown",
   "id": "68bc8052-15a8-4eac-922b-b38c0898ee6b",
   "metadata": {},
   "source": [
    "### Exercise 39:\n",
    "Add Gaussian noise to a NumPy array."
   ]
  },
  {
   "cell_type": "code",
   "execution_count": 204,
   "id": "5319882c-4746-43ef-8c20-035c4c0af9ed",
   "metadata": {},
   "outputs": [
    {
     "name": "stdout",
     "output_type": "stream",
     "text": [
      "P: is Original array: [1 2 3 4 5]\n",
      "Y: Gaussian noise: [ 0.18470801 -0.25835569 -0.49191891 -0.17175036 -0.31186978]\n",
      "d :Noisy array: [1.18470801 1.74164431 2.50808109 3.82824964 4.68813022]\n"
     ]
    }
   ],
   "source": [
    "P = np.array([1, 2, 3, 4, 5])\n",
    "# Here for specify the mean and standard deviation of the Gaussian noise\n",
    "mean = 0\n",
    "std_dev = 0.5\n",
    "# Gaussian noise\n",
    "y = np.random.normal(mean, std_dev, P.shape)\n",
    "# By adding a noise\n",
    "d = P + y\n",
    "print(\"P: is Original array:\", P)\n",
    "print(\"Y: Gaussian noise:\", y)\n",
    "print(\"d :Noisy array:\", d)\n"
   ]
  },
  {
   "cell_type": "markdown",
   "id": "ee3fc30f-cec0-478c-b5a7-b3f2b1051a93",
   "metadata": {},
   "source": [
    "### Exercise 40:\n",
    "Create a 4x4 matrix and extract the diagonal elements."
   ]
  },
  {
   "cell_type": "code",
   "execution_count": 209,
   "id": "8350cdf9-0bae-47b0-a433-404482e3d9e4",
   "metadata": {},
   "outputs": [
    {
     "name": "stdout",
     "output_type": "stream",
     "text": [
      "[[ 1  2  3  4]\n",
      " [ 5  6  7  8]\n",
      " [ 9 10 11 12]\n",
      " [13 14 15 16]]\n",
      "[ 1  6 11 16]\n"
     ]
    }
   ],
   "source": [
    "m = np.array([[1, 2, 3, 4],[5, 6, 7, 8],[9, 10, 11, 12],[13, 14, 15, 16]])\n",
    "diag = np.diagonal(m)\n",
    "print(m)\n",
    "print(diag)"
   ]
  },
  {
   "cell_type": "code",
   "execution_count": null,
   "id": "8908c022-3331-4c3c-8941-b84b8b1ddfce",
   "metadata": {},
   "outputs": [],
   "source": []
  }
 ],
 "metadata": {
  "kernelspec": {
   "display_name": "Python 3 (ipykernel)",
   "language": "python",
   "name": "python3"
  },
  "language_info": {
   "codemirror_mode": {
    "name": "ipython",
    "version": 3
   },
   "file_extension": ".py",
   "mimetype": "text/x-python",
   "name": "python",
   "nbconvert_exporter": "python",
   "pygments_lexer": "ipython3",
   "version": "3.12.4"
  }
 },
 "nbformat": 4,
 "nbformat_minor": 5
}
